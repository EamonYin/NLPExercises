{
 "cells": [
  {
   "cell_type": "code",
   "execution_count": 8,
   "id": "initial_id",
   "metadata": {
    "collapsed": true,
    "ExecuteTime": {
     "end_time": "2025-01-03T08:34:07.313329Z",
     "start_time": "2025-01-03T08:34:07.307468Z"
    }
   },
   "outputs": [
    {
     "name": "stdout",
     "output_type": "stream",
     "text": [
      "[['the', 'quick', 'brown', 'fox', 'jumps', 'over', 'the', 'lazy', 'dogs'], ['yoyoyo', 'you', 'go', 'home', 'now', 'to', 'sleep']]\n"
     ]
    }
   ],
   "source": [
    "from gensim.models import word2vec\n",
    "import logging \n",
    "# 自定义日志格式\n",
    "logging.basicConfig(format='%(asctime)s : %(levelname)s : %(message)s', level=logging.INFO)\n",
    "raw_sentences = [\"the quick brown fox jumps over the lazy dogs\",\"yoyoyo you go home now to sleep\"]\n",
    "sentences = [s.split() for s in raw_sentences]\n",
    "print(sentences)"
   ]
  },
  {
   "cell_type": "code",
   "outputs": [
    {
     "name": "stderr",
     "output_type": "stream",
     "text": [
      "2025-01-03 16:34:09,438 : INFO : collecting all words and their counts\n",
      "2025-01-03 16:34:09,440 : INFO : PROGRESS: at sentence #0, processed 0 words, keeping 0 word types\n",
      "2025-01-03 16:34:09,440 : INFO : collected 15 word types from a corpus of 16 raw words and 2 sentences\n",
      "2025-01-03 16:34:09,441 : INFO : Creating a fresh vocabulary\n",
      "2025-01-03 16:34:09,442 : INFO : Word2Vec lifecycle event {'msg': 'effective_min_count=1 retains 15 unique words (100.00% of original 15, drops 0)', 'datetime': '2025-01-03T16:34:09.442331', 'gensim': '4.3.3', 'python': '3.9.18 | packaged by conda-forge | (main, Dec 23 2023, 16:35:41) \\n[Clang 16.0.6 ]', 'platform': 'macOS-15.1.1-arm64-arm-64bit', 'event': 'prepare_vocab'}\n",
      "2025-01-03 16:34:09,443 : INFO : Word2Vec lifecycle event {'msg': 'effective_min_count=1 leaves 16 word corpus (100.00% of original 16, drops 0)', 'datetime': '2025-01-03T16:34:09.443044', 'gensim': '4.3.3', 'python': '3.9.18 | packaged by conda-forge | (main, Dec 23 2023, 16:35:41) \\n[Clang 16.0.6 ]', 'platform': 'macOS-15.1.1-arm64-arm-64bit', 'event': 'prepare_vocab'}\n",
      "2025-01-03 16:34:09,443 : INFO : deleting the raw counts dictionary of 15 items\n",
      "2025-01-03 16:34:09,444 : INFO : sample=0.001 downsamples 15 most-common words\n",
      "2025-01-03 16:34:09,445 : INFO : Word2Vec lifecycle event {'msg': 'downsampling leaves estimated 2.1897609278942753 word corpus (13.7%% of prior 16)', 'datetime': '2025-01-03T16:34:09.445143', 'gensim': '4.3.3', 'python': '3.9.18 | packaged by conda-forge | (main, Dec 23 2023, 16:35:41) \\n[Clang 16.0.6 ]', 'platform': 'macOS-15.1.1-arm64-arm-64bit', 'event': 'prepare_vocab'}\n",
      "2025-01-03 16:34:09,446 : INFO : estimated required memory for 15 words and 100 dimensions: 19500 bytes\n",
      "2025-01-03 16:34:09,447 : INFO : resetting layer weights\n",
      "2025-01-03 16:34:09,448 : INFO : Word2Vec lifecycle event {'update': False, 'trim_rule': 'None', 'datetime': '2025-01-03T16:34:09.448459', 'gensim': '4.3.3', 'python': '3.9.18 | packaged by conda-forge | (main, Dec 23 2023, 16:35:41) \\n[Clang 16.0.6 ]', 'platform': 'macOS-15.1.1-arm64-arm-64bit', 'event': 'build_vocab'}\n",
      "2025-01-03 16:34:09,448 : INFO : Word2Vec lifecycle event {'msg': 'training model with 3 workers on 15 vocabulary and 100 features, using sg=0 hs=0 sample=0.001 negative=5 window=5 shrink_windows=True', 'datetime': '2025-01-03T16:34:09.448964', 'gensim': '4.3.3', 'python': '3.9.18 | packaged by conda-forge | (main, Dec 23 2023, 16:35:41) \\n[Clang 16.0.6 ]', 'platform': 'macOS-15.1.1-arm64-arm-64bit', 'event': 'train'}\n",
      "2025-01-03 16:34:09,450 : INFO : EPOCH 0: training on 16 raw words (2 effective words) took 0.0s, 6824 effective words/s\n",
      "2025-01-03 16:34:09,452 : INFO : EPOCH 1: training on 16 raw words (3 effective words) took 0.0s, 8246 effective words/s\n",
      "2025-01-03 16:34:09,454 : INFO : EPOCH 2: training on 16 raw words (1 effective words) took 0.0s, 15316 effective words/s\n",
      "2025-01-03 16:34:09,455 : INFO : EPOCH 3: training on 16 raw words (2 effective words) took 0.0s, 12239 effective words/s\n",
      "2025-01-03 16:34:09,457 : INFO : EPOCH 4: training on 16 raw words (2 effective words) took 0.0s, 3915 effective words/s\n",
      "2025-01-03 16:34:09,457 : INFO : Word2Vec lifecycle event {'msg': 'training on 80 raw words (10 effective words) took 0.0s, 1215 effective words/s', 'datetime': '2025-01-03T16:34:09.457598', 'gensim': '4.3.3', 'python': '3.9.18 | packaged by conda-forge | (main, Dec 23 2023, 16:35:41) \\n[Clang 16.0.6 ]', 'platform': 'macOS-15.1.1-arm64-arm-64bit', 'event': 'train'}\n",
      "2025-01-03 16:34:09,457 : INFO : Word2Vec lifecycle event {'params': 'Word2Vec<vocab=15, vector_size=100, alpha=0.025>', 'datetime': '2025-01-03T16:34:09.457895', 'gensim': '4.3.3', 'python': '3.9.18 | packaged by conda-forge | (main, Dec 23 2023, 16:35:41) \\n[Clang 16.0.6 ]', 'platform': 'macOS-15.1.1-arm64-arm-64bit', 'event': 'created'}\n"
     ]
    }
   ],
   "source": [
    "#建模\n",
    "model = word2vec.Word2Vec(sentences,min_count=1)"
   ],
   "metadata": {
    "collapsed": false,
    "ExecuteTime": {
     "end_time": "2025-01-03T08:34:09.461610Z",
     "start_time": "2025-01-03T08:34:09.441728Z"
    }
   },
   "id": "1c5fa32edb455b4a",
   "execution_count": 9
  },
  {
   "cell_type": "code",
   "outputs": [
    {
     "data": {
      "text/plain": "0.009126538"
     },
     "execution_count": 10,
     "metadata": {},
     "output_type": "execute_result"
    }
   ],
   "source": [
    "model.wv.similarity('dogs','you')"
   ],
   "metadata": {
    "collapsed": false,
    "ExecuteTime": {
     "end_time": "2025-01-03T08:34:11.648141Z",
     "start_time": "2025-01-03T08:34:11.643757Z"
    }
   },
   "id": "f9705bb17ae79f82",
   "execution_count": 10
  },
  {
   "cell_type": "code",
   "outputs": [],
   "source": [],
   "metadata": {
    "collapsed": false
   },
   "id": "6df2d4b688768f7"
  }
 ],
 "metadata": {
  "kernelspec": {
   "display_name": "Python 3",
   "language": "python",
   "name": "python3"
  },
  "language_info": {
   "codemirror_mode": {
    "name": "ipython",
    "version": 2
   },
   "file_extension": ".py",
   "mimetype": "text/x-python",
   "name": "python",
   "nbconvert_exporter": "python",
   "pygments_lexer": "ipython2",
   "version": "2.7.6"
  }
 },
 "nbformat": 4,
 "nbformat_minor": 5
}
