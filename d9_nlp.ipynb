{
 "cells": [
  {
   "cell_type": "code",
   "execution_count": 1,
   "id": "initial_id",
   "metadata": {
    "collapsed": true,
    "ExecuteTime": {
     "end_time": "2025-01-04T06:59:48.959427Z",
     "start_time": "2025-01-04T06:59:45.056362Z"
    }
   },
   "outputs": [],
   "source": [
    "import os\n",
    "import re\n",
    "import numpy as np\n",
    "import pandas as pd\n",
    "#去除特殊字符\n",
    "from bs4 import BeautifulSoup\n",
    "#机器学习算法、数据预处理\n",
    "from sklearn.feature_extraction.text import CountVectorizer\n",
    "from sklearn.ensemble import RandomForestClassifier\n",
    "from sklearn.metrics import confusion_matrix\n",
    "from sklearn.linear_model import LogisticRegression\n",
    "\n",
    "import nltk\n",
    "from nltk.corpus import stopwords"
   ]
  },
  {
   "cell_type": "code",
   "outputs": [
    {
     "name": "stdout",
     "output_type": "stream",
     "text": [
      "Number of reviews:25000\n"
     ]
    },
    {
     "data": {
      "text/plain": "       id  sentiment                                             review\n0  5814_8          1  With all this stuff going down at the moment w...\n1  2381_9          1  \"The Classic War of the Worlds\" by Timothy Hin...\n2  7759_3          0  The film starts with a manager (Nicholas Bell)...\n3  3630_4          0  It must be assumed that those who praised this...\n4  9495_8          1  Superbly trashy and wondrously unpretentious 8...",
      "text/html": "<div>\n<style scoped>\n    .dataframe tbody tr th:only-of-type {\n        vertical-align: middle;\n    }\n\n    .dataframe tbody tr th {\n        vertical-align: top;\n    }\n\n    .dataframe thead th {\n        text-align: right;\n    }\n</style>\n<table border=\"1\" class=\"dataframe\">\n  <thead>\n    <tr style=\"text-align: right;\">\n      <th></th>\n      <th>id</th>\n      <th>sentiment</th>\n      <th>review</th>\n    </tr>\n  </thead>\n  <tbody>\n    <tr>\n      <th>0</th>\n      <td>5814_8</td>\n      <td>1</td>\n      <td>With all this stuff going down at the moment w...</td>\n    </tr>\n    <tr>\n      <th>1</th>\n      <td>2381_9</td>\n      <td>1</td>\n      <td>\"The Classic War of the Worlds\" by Timothy Hin...</td>\n    </tr>\n    <tr>\n      <th>2</th>\n      <td>7759_3</td>\n      <td>0</td>\n      <td>The film starts with a manager (Nicholas Bell)...</td>\n    </tr>\n    <tr>\n      <th>3</th>\n      <td>3630_4</td>\n      <td>0</td>\n      <td>It must be assumed that those who praised this...</td>\n    </tr>\n    <tr>\n      <th>4</th>\n      <td>9495_8</td>\n      <td>1</td>\n      <td>Superbly trashy and wondrously unpretentious 8...</td>\n    </tr>\n  </tbody>\n</table>\n</div>"
     },
     "execution_count": 3,
     "metadata": {},
     "output_type": "execute_result"
    }
   ],
   "source": [
    "#用pandas读入数据\n",
    "df = pd.read_csv('/Users/eamonyin/Downloads/迪哥nlp/练习/labeledTrainData.tsv', sep='\\t',escapechar='\\\\')\n",
    "print('Number of reviews:{}'.format(len(df)))\n",
    "df.head()"
   ],
   "metadata": {
    "collapsed": false,
    "ExecuteTime": {
     "end_time": "2025-01-04T07:01:15.857010Z",
     "start_time": "2025-01-04T07:01:15.607950Z"
    }
   },
   "id": "f584f78f1c8f13e4",
   "execution_count": 3
  },
  {
   "cell_type": "code",
   "outputs": [
    {
     "data": {
      "text/plain": "\"I watched this movie really late last night and usually if it's late then I'm pretty forgiving of movies. Although I tried, I just could not stand this movie at all, it kept getting worse and worse as the movie went on. Although I know it's suppose to be a comedy but I didn't find it very funny. It was also an especially unrealistic, and jaded portrayal of rural life. In case this is what any of you think country life is like, it's definitely not. I do have to agree that some of the guy cast members were cute, but the french guy was really fake. I do have to agree that it tried to have a good lesson in the story, but overall my recommendation is that no one over 8 watch it, it's just too annoying.\""
     },
     "execution_count": 4,
     "metadata": {},
     "output_type": "execute_result"
    }
   ],
   "source": [
    "df['review'][1000]"
   ],
   "metadata": {
    "collapsed": false,
    "ExecuteTime": {
     "end_time": "2025-01-04T07:05:49.294644Z",
     "start_time": "2025-01-04T07:05:49.288410Z"
    }
   },
   "id": "9bdd084b40bf37eb",
   "execution_count": 4
  },
  {
   "cell_type": "code",
   "outputs": [
    {
     "data": {
      "text/plain": "\"I watched this movie really late last night and usually if it's late then I'm pretty forgiving of movies. Although I tried, I just could not stand this movie at all, it kept getting worse and worse as the movie went on. Although I know it's suppose to be a comedy but I didn't find it very funny. It was also an especially unrealistic, and jaded portrayal of rural life. In case this is what any of you think country life is like, it's definitely not. I do have to agree that some of the guy cast members were cute, but the french guy was really fake. I do have to agree that it tried to have a good lesson in the story, but overall my recommendation is that no one over 8 watch it, it's just too annoying.\""
     },
     "execution_count": 5,
     "metadata": {},
     "output_type": "execute_result"
    }
   ],
   "source": [
    "#去除html标签\n",
    "example = BeautifulSoup(df['review'][1000],'html.parser').get_text()\n",
    "example"
   ],
   "metadata": {
    "collapsed": false,
    "ExecuteTime": {
     "end_time": "2025-01-04T07:08:51.369840Z",
     "start_time": "2025-01-04T07:08:51.365410Z"
    }
   },
   "id": "2cac37b3ae995927",
   "execution_count": 5
  },
  {
   "cell_type": "code",
   "outputs": [
    {
     "data": {
      "text/plain": "'I watched this movie really late last night and usually if it s late then I m pretty forgiving of movies  Although I tried  I just could not stand this movie at all  it kept getting worse and worse as the movie went on  Although I know it s suppose to be a comedy but I didn t find it very funny  It was also an especially unrealistic  and jaded portrayal of rural life  In case this is what any of you think country life is like  it s definitely not  I do have to agree that some of the guy cast members were cute  but the french guy was really fake  I do have to agree that it tried to have a good lesson in the story  but overall my recommendation is that no one over   watch it  it s just too annoying '"
     },
     "execution_count": 16,
     "metadata": {},
     "output_type": "execute_result"
    }
   ],
   "source": [
    "#去掉标点符号\n",
    "example_letters = re.sub(r'[^a-zA-Z]', ' ', example)\n",
    "example_letters"
   ],
   "metadata": {
    "collapsed": false,
    "ExecuteTime": {
     "end_time": "2025-01-04T07:13:27.187745Z",
     "start_time": "2025-01-04T07:13:27.183502Z"
    }
   },
   "id": "e50822b92d6dad87",
   "execution_count": 16
  },
  {
   "cell_type": "code",
   "outputs": [
    {
     "data": {
      "text/plain": "['i',\n 'watched',\n 'this',\n 'movie',\n 'really',\n 'late',\n 'last',\n 'night',\n 'and',\n 'usually',\n 'if',\n 'it',\n 's',\n 'late',\n 'then',\n 'i',\n 'm',\n 'pretty',\n 'forgiving',\n 'of',\n 'movies',\n 'although',\n 'i',\n 'tried',\n 'i',\n 'just',\n 'could',\n 'not',\n 'stand',\n 'this',\n 'movie',\n 'at',\n 'all',\n 'it',\n 'kept',\n 'getting',\n 'worse',\n 'and',\n 'worse',\n 'as',\n 'the',\n 'movie',\n 'went',\n 'on',\n 'although',\n 'i',\n 'know',\n 'it',\n 's',\n 'suppose',\n 'to',\n 'be',\n 'a',\n 'comedy',\n 'but',\n 'i',\n 'didn',\n 't',\n 'find',\n 'it',\n 'very',\n 'funny',\n 'it',\n 'was',\n 'also',\n 'an',\n 'especially',\n 'unrealistic',\n 'and',\n 'jaded',\n 'portrayal',\n 'of',\n 'rural',\n 'life',\n 'in',\n 'case',\n 'this',\n 'is',\n 'what',\n 'any',\n 'of',\n 'you',\n 'think',\n 'country',\n 'life',\n 'is',\n 'like',\n 'it',\n 's',\n 'definitely',\n 'not',\n 'i',\n 'do',\n 'have',\n 'to',\n 'agree',\n 'that',\n 'some',\n 'of',\n 'the',\n 'guy',\n 'cast',\n 'members',\n 'were',\n 'cute',\n 'but',\n 'the',\n 'french',\n 'guy',\n 'was',\n 'really',\n 'fake',\n 'i',\n 'do',\n 'have',\n 'to',\n 'agree',\n 'that',\n 'it',\n 'tried',\n 'to',\n 'have',\n 'a',\n 'good',\n 'lesson',\n 'in',\n 'the',\n 'story',\n 'but',\n 'overall',\n 'my',\n 'recommendation',\n 'is',\n 'that',\n 'no',\n 'one',\n 'over',\n 'watch',\n 'it',\n 'it',\n 's',\n 'just',\n 'too',\n 'annoying']"
     },
     "execution_count": 17,
     "metadata": {},
     "output_type": "execute_result"
    }
   ],
   "source": [
    "words = example_letters.lower().split()\n",
    "words"
   ],
   "metadata": {
    "collapsed": false,
    "ExecuteTime": {
     "end_time": "2025-01-04T07:13:29.116537Z",
     "start_time": "2025-01-04T07:13:29.112041Z"
    }
   },
   "id": "3734cd29c10e732d",
   "execution_count": 17
  },
  {
   "cell_type": "code",
   "outputs": [
    {
     "data": {
      "text/plain": "['watched',\n 'movie',\n 'really',\n 'late',\n 'last',\n 'night',\n 'usually',\n 'late',\n 'pretty',\n 'forgiving',\n 'movies',\n 'although',\n 'tried',\n 'could',\n 'stand',\n 'movie',\n 'kept',\n 'getting',\n 'worse',\n 'worse',\n 'movie',\n 'went',\n 'although',\n 'know',\n 'suppose',\n 'comedy',\n 'find',\n 'funny',\n 'also',\n 'especially',\n 'unrealistic',\n 'jaded',\n 'portrayal',\n 'rural',\n 'life',\n 'case',\n 'think',\n 'country',\n 'life',\n 'like',\n 'definitely',\n 'agree',\n 'guy',\n 'cast',\n 'members',\n 'cute',\n 'french',\n 'guy',\n 'really',\n 'fake',\n 'agree',\n 'tried',\n 'good',\n 'lesson',\n 'story',\n 'overall',\n 'recommendation',\n 'one',\n 'watch',\n 'annoying']"
     },
     "execution_count": 18,
     "metadata": {},
     "output_type": "execute_result"
    }
   ],
   "source": [
    "#去停用词\n",
    "stopwords = stopwords.words('english')\n",
    "words_nostop = [w for w in words if w not in stopwords]\n",
    "words_nostop"
   ],
   "metadata": {
    "collapsed": false,
    "ExecuteTime": {
     "end_time": "2025-01-04T07:16:00.770895Z",
     "start_time": "2025-01-04T07:16:00.764313Z"
    }
   },
   "id": "1036bee2efa9579f",
   "execution_count": 18
  },
  {
   "cell_type": "code",
   "outputs": [
    {
     "data": {
      "text/plain": "'watched movie really late last night usually late pretty forgiving movies although tried could stand movie kept getting worse worse movie went although know suppose comedy find funny also especially unrealistic jaded portrayal rural life case think country life like definitely agree guy cast members cute french guy really fake agree tried good lesson story overall recommendation one watch annoying'"
     },
     "execution_count": 22,
     "metadata": {},
     "output_type": "execute_result"
    }
   ],
   "source": [
    "sentence = \" \".join(words_nostop)\n",
    "sentence"
   ],
   "metadata": {
    "collapsed": false,
    "ExecuteTime": {
     "end_time": "2025-01-04T07:22:43.094915Z",
     "start_time": "2025-01-04T07:22:43.091868Z"
    }
   },
   "id": "df82c115e67b8fe8",
   "execution_count": 22
  },
  {
   "cell_type": "code",
   "outputs": [
    {
     "name": "stderr",
     "output_type": "stream",
     "text": [
      "/var/folders/n6/jc6p3y9s6j978jn_zhglfvzc0000gn/T/ipykernel_89185/2843679889.py:4: MarkupResemblesLocatorWarning: The input looks more like a filename than markup. You may want to open this file and pass the filehandle into Beautiful Soup.\n",
      "  text = BeautifulSoup(text,'html.parser').get_text()\n"
     ]
    },
    {
     "data": {
      "text/plain": "       id  sentiment                                             review  \\\n0  5814_8          1  With all this stuff going down at the moment w...   \n1  2381_9          1  \"The Classic War of the Worlds\" by Timothy Hin...   \n2  7759_3          0  The film starts with a manager (Nicholas Bell)...   \n3  3630_4          0  It must be assumed that those who praised this...   \n4  9495_8          1  Superbly trashy and wondrously unpretentious 8...   \n\n                                        clean_review  \n0  stuff going moment mj started listening music ...  \n1  classic war worlds timothy hines entertaining ...  \n2  film starts manager nicholas bell giving welco...  \n3  must assumed praised film greatest filmed oper...  \n4  superbly trashy wondrously unpretentious explo...  ",
      "text/html": "<div>\n<style scoped>\n    .dataframe tbody tr th:only-of-type {\n        vertical-align: middle;\n    }\n\n    .dataframe tbody tr th {\n        vertical-align: top;\n    }\n\n    .dataframe thead th {\n        text-align: right;\n    }\n</style>\n<table border=\"1\" class=\"dataframe\">\n  <thead>\n    <tr style=\"text-align: right;\">\n      <th></th>\n      <th>id</th>\n      <th>sentiment</th>\n      <th>review</th>\n      <th>clean_review</th>\n    </tr>\n  </thead>\n  <tbody>\n    <tr>\n      <th>0</th>\n      <td>5814_8</td>\n      <td>1</td>\n      <td>With all this stuff going down at the moment w...</td>\n      <td>stuff going moment mj started listening music ...</td>\n    </tr>\n    <tr>\n      <th>1</th>\n      <td>2381_9</td>\n      <td>1</td>\n      <td>\"The Classic War of the Worlds\" by Timothy Hin...</td>\n      <td>classic war worlds timothy hines entertaining ...</td>\n    </tr>\n    <tr>\n      <th>2</th>\n      <td>7759_3</td>\n      <td>0</td>\n      <td>The film starts with a manager (Nicholas Bell)...</td>\n      <td>film starts manager nicholas bell giving welco...</td>\n    </tr>\n    <tr>\n      <th>3</th>\n      <td>3630_4</td>\n      <td>0</td>\n      <td>It must be assumed that those who praised this...</td>\n      <td>must assumed praised film greatest filmed oper...</td>\n    </tr>\n    <tr>\n      <th>4</th>\n      <td>9495_8</td>\n      <td>1</td>\n      <td>Superbly trashy and wondrously unpretentious 8...</td>\n      <td>superbly trashy wondrously unpretentious explo...</td>\n    </tr>\n  </tbody>\n</table>\n</div>"
     },
     "execution_count": 26,
     "metadata": {},
     "output_type": "execute_result"
    }
   ],
   "source": [
    "from nltk.corpus import stopwords\n",
    "stopwords = stopwords.words('english')\n",
    "def clean_text(text):\n",
    "    text = BeautifulSoup(text,'html.parser').get_text()\n",
    "    text = re.sub(r'[^a-zA-Z]', ' ', text)\n",
    "    words = text.lower().split()\n",
    "    words = [w for w in words if w not in stopwords]\n",
    "    return ' '.join(words) \n",
    "\n",
    "df['clean_review'] = df.review.apply(clean_text)\n",
    "df.head()"
   ],
   "metadata": {
    "collapsed": false,
    "ExecuteTime": {
     "end_time": "2025-01-04T07:29:34.077556Z",
     "start_time": "2025-01-04T07:29:25.573208Z"
    }
   },
   "id": "4990e74e320f9a59",
   "execution_count": 26
  },
  {
   "cell_type": "code",
   "outputs": [
    {
     "data": {
      "text/plain": "(25000, 5000)"
     },
     "execution_count": 27,
     "metadata": {},
     "output_type": "execute_result"
    }
   ],
   "source": [
    "#抽取bag of words特征（用sklearn的CountVectorizer）\n",
    "vectorizer = CountVectorizer(max_features=5000)#基于词频过滤\n",
    "train_data_features = vectorizer.fit_transform(df.clean_review).toarray()\n",
    "train_data_features.shape"
   ],
   "metadata": {
    "collapsed": false,
    "ExecuteTime": {
     "end_time": "2025-01-04T08:00:15.387930Z",
     "start_time": "2025-01-04T08:00:13.965928Z"
    }
   },
   "id": "6a05c07ef49f331d",
   "execution_count": 27
  },
  {
   "cell_type": "code",
   "outputs": [],
   "source": [
    "#数据切分（训练集 和 测试集）\n",
    "from sklearn.model_selection import train_test_split\n",
    "X_train,X_test,y_train,y_test = train_test_split(train_data_features,df.sentiment,test_size=0.2,random_state=0)"
   ],
   "metadata": {
    "collapsed": false,
    "ExecuteTime": {
     "end_time": "2025-01-04T08:10:15.160654Z",
     "start_time": "2025-01-04T08:10:15.014065Z"
    }
   },
   "id": "cf9d5ab6b85b3d60",
   "execution_count": 28
  },
  {
   "cell_type": "code",
   "outputs": [],
   "source": [
    "import numpy as np\n",
    "import matplotlib.pyplot as plt\n",
    "import itertools\n",
    "\n",
    "def plot_confusion_matrix(cm, classes, normalize=False, title='Confusion matrix', cmap=plt.cm.Blues):\n",
    "    \"\"\"\n",
    "    此函数用于绘制混淆矩阵\n",
    "\n",
    "    参数:\n",
    "    cm (numpy.ndarray): 混淆矩阵\n",
    "    classes (list): 类别标签列表\n",
    "    normalize (bool): 是否将混淆矩阵归一化，默认为 False\n",
    "    title (str): 图像的标题，默认为 'Confusion matrix'\n",
    "    cmap (matplotlib.colors.Colormap): 用于绘制的颜色映射，默认为 plt.cm.Blues\n",
    "    \"\"\"\n",
    "\n",
    "    plt.imshow(cm, interpolation='nearest', cmap=cmap)\n",
    "    plt.title(title)\n",
    "    plt.colorbar()\n",
    "    tick_marks = np.arange(len(classes))\n",
    "    plt.xticks(tick_marks, classes, rotation=45)\n",
    "    plt.yticks(tick_marks, classes)\n",
    "\n",
    "    thresh = cm.max() / 2.\n",
    "    for i, j in itertools.product(range(cm.shape[0]), range(cm.shape[1])):\n",
    "        plt.text(j, i, format(cm[i, j]),\n",
    "                 horizontalalignment=\"center\",\n",
    "                 color=\"white\" if cm[i, j] > thresh else \"black\")\n",
    "\n",
    "    plt.tight_layout()\n",
    "    plt.ylabel('True label')\n",
    "    plt.xlabel('Predicted label')"
   ],
   "metadata": {
    "collapsed": false,
    "ExecuteTime": {
     "end_time": "2025-01-04T08:18:42.384383Z",
     "start_time": "2025-01-04T08:18:41.979088Z"
    }
   },
   "id": "7d86c4f1e6a986ec",
   "execution_count": 29
  },
  {
   "cell_type": "code",
   "outputs": [
    {
     "name": "stderr",
     "output_type": "stream",
     "text": [
      "/opt/miniconda3/envs/deepshare/lib/python3.9/site-packages/sklearn/linear_model/_logistic.py:469: ConvergenceWarning: lbfgs failed to converge (status=1):\n",
      "STOP: TOTAL NO. of ITERATIONS REACHED LIMIT.\n",
      "\n",
      "Increase the number of iterations (max_iter) or scale the data as shown in:\n",
      "    https://scikit-learn.org/stable/modules/preprocessing.html\n",
      "Please also refer to the documentation for alternative solver options:\n",
      "    https://scikit-learn.org/stable/modules/linear_model.html#logistic-regression\n",
      "  n_iter_i = _check_optimize_result(\n"
     ]
    },
    {
     "name": "stdout",
     "output_type": "stream",
     "text": [
      "Recall metric in the testing dataset:  0.8597063621533442\n",
      "accuracy metric in the testing dataset:  0.8582\n"
     ]
    },
    {
     "data": {
      "text/plain": "<Figure size 640x480 with 2 Axes>",
      "image/png": "[encoded data removed]"
     },
     "metadata": {},
     "output_type": "display_data"
    }
   ],
   "source": [
    "# 创建逻辑回归模型\n",
    "LR_model = LogisticRegression()\n",
    "# 训练模型\n",
    "LR_model = LR_model.fit(X_train, y_train)\n",
    "# 预测\n",
    "y_pred = LR_model.predict(X_test)\n",
    "# 计算混淆矩阵\n",
    "cnf_matrix = confusion_matrix(y_test, y_pred)\n",
    "\n",
    "# 计算召回率\n",
    "print(\"Recall metric in the testing dataset: \", cnf_matrix[1, 1] / (cnf_matrix[1, 0] + cnf_matrix[1, 1]))\n",
    "#计算准确率\n",
    "print(\"accuracy metric in the testing dataset: \", (cnf_matrix[1, 1] + cnf_matrix[0, 0]) / (cnf_matrix[0, 0] + cnf_matrix[1, 1] + cnf_matrix[0, 1] + cnf_matrix[1, 0]))\n",
    "\n",
    "\n",
    "# 绘制非归一化混淆矩阵\n",
    "class_names = [0, 1]\n",
    "plt.figure()\n",
    "plot_confusion_matrix(cnf_matrix, classes=class_names, title='Confusion matrix')\n",
    "plt.show()"
   ],
   "metadata": {
    "collapsed": false,
    "ExecuteTime": {
     "end_time": "2025-01-04T08:24:54.480411Z",
     "start_time": "2025-01-04T08:24:49.827475Z"
    }
   },
   "id": "5d1c6bd7c2d98825",
   "execution_count": 30
  },
  {
   "cell_type": "code",
   "outputs": [
    {
     "name": "stdout",
     "output_type": "stream",
     "text": [
      "Number of reviews:50000\n"
     ]
    },
    {
     "data": {
      "text/plain": "        id                                             review\n0   9999_0  Watching Time Chasers, it obvious that it was ...\n1  45057_0  I saw this film about 20 years ago and remembe...\n2  15561_0  Minor Spoilers<br /><br />In New York, Joan Ba...\n3   7161_0  I went to see this film with a great deal of e...\n4  43971_0  Yes, I agree with everyone on this site this m...",
      "text/html": "<div>\n<style scoped>\n    .dataframe tbody tr th:only-of-type {\n        vertical-align: middle;\n    }\n\n    .dataframe tbody tr th {\n        vertical-align: top;\n    }\n\n    .dataframe thead th {\n        text-align: right;\n    }\n</style>\n<table border=\"1\" class=\"dataframe\">\n  <thead>\n    <tr style=\"text-align: right;\">\n      <th></th>\n      <th>id</th>\n      <th>review</th>\n    </tr>\n  </thead>\n  <tbody>\n    <tr>\n      <th>0</th>\n      <td>9999_0</td>\n      <td>Watching Time Chasers, it obvious that it was ...</td>\n    </tr>\n    <tr>\n      <th>1</th>\n      <td>45057_0</td>\n      <td>I saw this film about 20 years ago and remembe...</td>\n    </tr>\n    <tr>\n      <th>2</th>\n      <td>15561_0</td>\n      <td>Minor Spoilers&lt;br /&gt;&lt;br /&gt;In New York, Joan Ba...</td>\n    </tr>\n    <tr>\n      <th>3</th>\n      <td>7161_0</td>\n      <td>I went to see this film with a great deal of e...</td>\n    </tr>\n    <tr>\n      <th>4</th>\n      <td>43971_0</td>\n      <td>Yes, I agree with everyone on this site this m...</td>\n    </tr>\n  </tbody>\n</table>\n</div>"
     },
     "execution_count": 32,
     "metadata": {},
     "output_type": "execute_result"
    }
   ],
   "source": [
    "#用pandas读入数据\n",
    "df = pd.read_csv('/Users/eamonyin/Downloads/迪哥nlp/练习/unlabeledTrainData.tsv', sep='\\t',escapechar='\\\\')\n",
    "print('Number of reviews:{}'.format(len(df)))\n",
    "df.head()"
   ],
   "metadata": {
    "collapsed": false,
    "ExecuteTime": {
     "end_time": "2025-01-04T08:37:19.416059Z",
     "start_time": "2025-01-04T08:37:18.864390Z"
    }
   },
   "id": "e83d7a02a1d2fe50",
   "execution_count": 32
  },
  {
   "cell_type": "code",
   "outputs": [
    {
     "name": "stderr",
     "output_type": "stream",
     "text": [
      "/var/folders/n6/jc6p3y9s6j978jn_zhglfvzc0000gn/T/ipykernel_89185/2843679889.py:4: MarkupResemblesLocatorWarning: The input looks more like a filename than markup. You may want to open this file and pass the filehandle into Beautiful Soup.\n",
      "  text = BeautifulSoup(text,'html.parser').get_text()\n"
     ]
    },
    {
     "data": {
      "text/plain": "        id                                             review  \\\n0   9999_0  Watching Time Chasers, it obvious that it was ...   \n1  45057_0  I saw this film about 20 years ago and remembe...   \n2  15561_0  Minor Spoilers<br /><br />In New York, Joan Ba...   \n3   7161_0  I went to see this film with a great deal of e...   \n4  43971_0  Yes, I agree with everyone on this site this m...   \n\n                                        clean_review  \n0  watching time chasers obvious made bunch frien...  \n1  saw film years ago remember particularly nasty...  \n2  minor spoilersin new york joan barnard elvire ...  \n3  went see film great deal excitement school dir...  \n4  yes agree everyone site movie bad even call mo...  ",
      "text/html": "<div>\n<style scoped>\n    .dataframe tbody tr th:only-of-type {\n        vertical-align: middle;\n    }\n\n    .dataframe tbody tr th {\n        vertical-align: top;\n    }\n\n    .dataframe thead th {\n        text-align: right;\n    }\n</style>\n<table border=\"1\" class=\"dataframe\">\n  <thead>\n    <tr style=\"text-align: right;\">\n      <th></th>\n      <th>id</th>\n      <th>review</th>\n      <th>clean_review</th>\n    </tr>\n  </thead>\n  <tbody>\n    <tr>\n      <th>0</th>\n      <td>9999_0</td>\n      <td>Watching Time Chasers, it obvious that it was ...</td>\n      <td>watching time chasers obvious made bunch frien...</td>\n    </tr>\n    <tr>\n      <th>1</th>\n      <td>45057_0</td>\n      <td>I saw this film about 20 years ago and remembe...</td>\n      <td>saw film years ago remember particularly nasty...</td>\n    </tr>\n    <tr>\n      <th>2</th>\n      <td>15561_0</td>\n      <td>Minor Spoilers&lt;br /&gt;&lt;br /&gt;In New York, Joan Ba...</td>\n      <td>minor spoilersin new york joan barnard elvire ...</td>\n    </tr>\n    <tr>\n      <th>3</th>\n      <td>7161_0</td>\n      <td>I went to see this film with a great deal of e...</td>\n      <td>went see film great deal excitement school dir...</td>\n    </tr>\n    <tr>\n      <th>4</th>\n      <td>43971_0</td>\n      <td>Yes, I agree with everyone on this site this m...</td>\n      <td>yes agree everyone site movie bad even call mo...</td>\n    </tr>\n  </tbody>\n</table>\n</div>"
     },
     "execution_count": 33,
     "metadata": {},
     "output_type": "execute_result"
    }
   ],
   "source": [
    "df['clean_review'] = df.review.apply(clean_text)\n",
    "df.head()"
   ],
   "metadata": {
    "collapsed": false,
    "ExecuteTime": {
     "end_time": "2025-01-04T08:38:37.333629Z",
     "start_time": "2025-01-04T08:38:20.001832Z"
    }
   },
   "id": "c598d515ab9b3246",
   "execution_count": 33
  },
  {
   "cell_type": "code",
   "outputs": [
    {
     "data": {
      "text/plain": "(50000,)"
     },
     "execution_count": 34,
     "metadata": {},
     "output_type": "execute_result"
    }
   ],
   "source": [
    "review_part = df['clean_review']\n",
    "review_part.shape"
   ],
   "metadata": {
    "collapsed": false,
    "ExecuteTime": {
     "end_time": "2025-01-04T08:39:28.323629Z",
     "start_time": "2025-01-04T08:39:28.314056Z"
    }
   },
   "id": "4d0187d08212abb9",
   "execution_count": 34
  },
  {
   "cell_type": "code",
   "outputs": [
    {
     "name": "stderr",
     "output_type": "stream",
     "text": [
      "[nltk_data] Downloading package punkt to /Users/eamonyin/nltk_data...\n",
      "[nltk_data]   Unzipping tokenizers/punkt.zip.\n"
     ]
    },
    {
     "data": {
      "text/plain": "True"
     },
     "execution_count": 35,
     "metadata": {},
     "output_type": "execute_result"
    }
   ],
   "source": [
    "nltk.download('punkt')"
   ],
   "metadata": {
    "collapsed": false,
    "ExecuteTime": {
     "end_time": "2025-01-04T08:43:44.874957Z",
     "start_time": "2025-01-04T08:43:43.250513Z"
    }
   },
   "id": "5ac8bdc4ddcb7c4a",
   "execution_count": 35
  },
  {
   "cell_type": "code",
   "outputs": [
    {
     "name": "stdout",
     "output_type": "stream",
     "text": [
      "50000 reviews -> 50000 sentences\n"
     ]
    }
   ],
   "source": [
    "import warnings\n",
    "warnings.filterwarnings (\"ignore\")\n",
    "\n",
    "def split_sentences(review):\n",
    "    tokenizer = nltk.data.load('tokenizers/punkt/english.pickle')#英文分词报错需要安装nltk.download('punkt')\n",
    "    #分词\n",
    "    raw_sentences = tokenizer.tokenize(review.strip())\n",
    "    #清洗\n",
    "    sentences = [clean_text(s) for s in raw_sentences if s]\n",
    "    return sentences\n",
    "sentences = sum(review_part.apply(split_sentences), [])\n",
    "print('{} reviews -> {} sentences'.format(len(review_part), len(sentences)))"
   ],
   "metadata": {
    "collapsed": false,
    "ExecuteTime": {
     "end_time": "2025-01-04T08:54:07.880533Z",
     "start_time": "2025-01-04T08:45:05.364070Z"
    }
   },
   "id": "626cd8d5cc17bc2a",
   "execution_count": 36
  },
  {
   "cell_type": "code",
   "outputs": [
    {
     "data": {
      "text/plain": "'watching time chasers obvious made bunch friends maybe sitting around one day film school said hey let pool money together make really bad movie something like ever said still ended making really bad movie dull story bad script lame acting poor cinematography bottom barrel stock music etc corners cut except one would prevented film release life like'"
     },
     "execution_count": 43,
     "metadata": {},
     "output_type": "execute_result"
    }
   ],
   "source": [
    "sentences[0]"
   ],
   "metadata": {
    "collapsed": false,
    "ExecuteTime": {
     "end_time": "2025-01-05T06:49:38.099786Z",
     "start_time": "2025-01-05T06:49:38.090800Z"
    }
   },
   "id": "cb45e7a6571599db",
   "execution_count": 43
  },
  {
   "cell_type": "code",
   "outputs": [],
   "source": [
    "sentences_list = []\n",
    "for line in sentences:\n",
    "    sentences_list.append(nltk.word_tokenize(line))"
   ],
   "metadata": {
    "collapsed": false,
    "ExecuteTime": {
     "end_time": "2025-01-05T06:48:46.298091Z",
     "start_time": "2025-01-05T06:48:33.228539Z"
    }
   },
   "id": "cfa74a2f7e9892eb",
   "execution_count": 40
  },
  {
   "cell_type": "code",
   "outputs": [],
   "source": [
    "#设定向量训练参数\n",
    "num_features = 300 # 特征维度300维\n",
    "min_word_count = 40 # 最少出现40次的词（词频）\n",
    "num_workers = 4 # 参数控制训练的并行数\n",
    "context = 10\n",
    "# 指定模型名字\n",
    "model_name = '{}feature_{}minword_{}context.model'.format(num_features, min_word_count,context)\n",
    "\n",
    "#构建模型\n",
    "from gensim.models.word2vec import  Word2Vec\n",
    "model = Word2Vec(sentences_list, workers=num_workers ,vector_size=num_features,min_count=min_word_count,window=context)\n",
    "\n",
    "model.wv.init_sims(replace=True)\n",
    "#保存模型（保存到..上一级目录下Gemsim练习文件夹中）\n",
    "model.wv.save(os.path.join('..','Gemsim练习',model_name))"
   ],
   "metadata": {
    "collapsed": false
   },
   "id": "d1cb6885fcb70d89",
   "execution_count": null
  },
  {
   "cell_type": "code",
   "outputs": [
    {
     "name": "stdout",
     "output_type": "stream",
     "text": [
      "kitchen\n"
     ]
    }
   ],
   "source": [
    "print(model.wv.doesnt_match(['man','woman','child','kitchen']))"
   ],
   "metadata": {
    "collapsed": false,
    "ExecuteTime": {
     "end_time": "2025-01-05T07:05:59.311457Z",
     "start_time": "2025-01-05T07:05:59.299790Z"
    }
   },
   "id": "8f1701c97b1770fa",
   "execution_count": 46
  },
  {
   "cell_type": "code",
   "outputs": [
    {
     "data": {
      "text/plain": "[('girl', 0.7353582382202148),\n ('kid', 0.6208159923553467),\n ('teenager', 0.6175847053527832),\n ('orphan', 0.6021819114685059),\n ('lad', 0.5700315237045288),\n ('brat', 0.5527265667915344),\n ('grandmother', 0.5378683805465698),\n ('dad', 0.5287836790084839),\n ('sister', 0.5114626288414001),\n ('angus', 0.5077499747276306)]"
     },
     "execution_count": 47,
     "metadata": {},
     "output_type": "execute_result"
    }
   ],
   "source": [
    "model.wv.most_similar('boy')"
   ],
   "metadata": {
    "collapsed": false,
    "ExecuteTime": {
     "end_time": "2025-01-05T07:09:37.008986Z",
     "start_time": "2025-01-05T07:09:36.946925Z"
    }
   },
   "id": "32d84438e03fdd2a",
   "execution_count": 47
  },
  {
   "cell_type": "code",
   "outputs": [
    {
     "data": {
      "text/plain": "       id  sentiment                                             review\n0  5814_8          1  With all this stuff going down at the moment w...\n1  2381_9          1  \"The Classic War of the Worlds\" by Timothy Hin...\n2  7759_3          0  The film starts with a manager (Nicholas Bell)...\n3  3630_4          0  It must be assumed that those who praised this...\n4  9495_8          1  Superbly trashy and wondrously unpretentious 8...",
      "text/html": "<div>\n<style scoped>\n    .dataframe tbody tr th:only-of-type {\n        vertical-align: middle;\n    }\n\n    .dataframe tbody tr th {\n        vertical-align: top;\n    }\n\n    .dataframe thead th {\n        text-align: right;\n    }\n</style>\n<table border=\"1\" class=\"dataframe\">\n  <thead>\n    <tr style=\"text-align: right;\">\n      <th></th>\n      <th>id</th>\n      <th>sentiment</th>\n      <th>review</th>\n    </tr>\n  </thead>\n  <tbody>\n    <tr>\n      <th>0</th>\n      <td>5814_8</td>\n      <td>1</td>\n      <td>With all this stuff going down at the moment w...</td>\n    </tr>\n    <tr>\n      <th>1</th>\n      <td>2381_9</td>\n      <td>1</td>\n      <td>\"The Classic War of the Worlds\" by Timothy Hin...</td>\n    </tr>\n    <tr>\n      <th>2</th>\n      <td>7759_3</td>\n      <td>0</td>\n      <td>The film starts with a manager (Nicholas Bell)...</td>\n    </tr>\n    <tr>\n      <th>3</th>\n      <td>3630_4</td>\n      <td>0</td>\n      <td>It must be assumed that those who praised this...</td>\n    </tr>\n    <tr>\n      <th>4</th>\n      <td>9495_8</td>\n      <td>1</td>\n      <td>Superbly trashy and wondrously unpretentious 8...</td>\n    </tr>\n  </tbody>\n</table>\n</div>"
     },
     "execution_count": 49,
     "metadata": {},
     "output_type": "execute_result"
    }
   ],
   "source": [
    "df = pd.read_csv('/Users/eamonyin/Downloads/迪哥nlp/练习/labeledTrainData.tsv',sep='\\t',escapechar='\\\\')\n",
    "df.head()"
   ],
   "metadata": {
    "collapsed": false,
    "ExecuteTime": {
     "end_time": "2025-01-05T07:14:58.624821Z",
     "start_time": "2025-01-05T07:14:58.376867Z"
    }
   },
   "id": "87bb71614326bd6f",
   "execution_count": 49
  },
  {
   "cell_type": "code",
   "outputs": [
    {
     "data": {
      "text/plain": "        0         1         2         3         4         5         6    \\\n0  0.119880 -2.065376 -2.379948  1.787148 -2.297413  1.456754 -1.048682   \n1  1.024400  1.734033 -0.393997  0.355636 -0.989784  0.911478  0.445839   \n2  1.857037  3.455379 -1.939125  0.452569  0.328551 -5.684084  1.889937   \n3  0.265719  2.098823 -0.568527  1.840265  0.736556  0.761174 -2.243618   \n4  0.343023  2.233894 -1.537942  1.145865 -0.180315 -2.963826  0.384539   \n\n        7         8         9    ...       290       291       292       293  \\\n0 -1.305244 -1.957105  2.362460  ...  1.249704 -1.219402  2.621868  1.244599   \n1 -2.555175 -1.539520  0.977977  ...  0.463812  0.511858  0.952929 -0.813730   \n2  5.295589  6.078263 -2.086571  ... -0.546285  1.471410  0.712211  0.860802   \n3 -1.716168 -0.456248 -1.960015  ...  1.365852  1.326883  1.975418 -1.354237   \n4  4.944383  0.572286 -2.445902  ...  0.476324 -0.962219  0.470524  1.711158   \n\n        294       295       296       297       298       299  \n0  4.252781  5.519925 -1.716134  1.257972  1.943958 -2.267424  \n1  3.054030  0.738909 -0.076476  0.864605  0.851661 -2.691619  \n2 -0.582224  4.473636 -0.150426 -1.909253 -0.158911  4.151898  \n3  1.304455  2.465221  0.459522  1.392626  1.146901 -0.544497  \n4 -0.547667  3.506202  0.625747 -1.408448 -2.133726  2.852950  \n\n[5 rows x 300 columns]",
      "text/html": "<div>\n<style scoped>\n    .dataframe tbody tr th:only-of-type {\n        vertical-align: middle;\n    }\n\n    .dataframe tbody tr th {\n        vertical-align: top;\n    }\n\n    .dataframe thead th {\n        text-align: right;\n    }\n</style>\n<table border=\"1\" class=\"dataframe\">\n  <thead>\n    <tr style=\"text-align: right;\">\n      <th></th>\n      <th>0</th>\n      <th>1</th>\n      <th>2</th>\n      <th>3</th>\n      <th>4</th>\n      <th>5</th>\n      <th>6</th>\n      <th>7</th>\n      <th>8</th>\n      <th>9</th>\n      <th>...</th>\n      <th>290</th>\n      <th>291</th>\n      <th>292</th>\n      <th>293</th>\n      <th>294</th>\n      <th>295</th>\n      <th>296</th>\n      <th>297</th>\n      <th>298</th>\n      <th>299</th>\n    </tr>\n  </thead>\n  <tbody>\n    <tr>\n      <th>0</th>\n      <td>0.119880</td>\n      <td>-2.065376</td>\n      <td>-2.379948</td>\n      <td>1.787148</td>\n      <td>-2.297413</td>\n      <td>1.456754</td>\n      <td>-1.048682</td>\n      <td>-1.305244</td>\n      <td>-1.957105</td>\n      <td>2.362460</td>\n      <td>...</td>\n      <td>1.249704</td>\n      <td>-1.219402</td>\n      <td>2.621868</td>\n      <td>1.244599</td>\n      <td>4.252781</td>\n      <td>5.519925</td>\n      <td>-1.716134</td>\n      <td>1.257972</td>\n      <td>1.943958</td>\n      <td>-2.267424</td>\n    </tr>\n    <tr>\n      <th>1</th>\n      <td>1.024400</td>\n      <td>1.734033</td>\n      <td>-0.393997</td>\n      <td>0.355636</td>\n      <td>-0.989784</td>\n      <td>0.911478</td>\n      <td>0.445839</td>\n      <td>-2.555175</td>\n      <td>-1.539520</td>\n      <td>0.977977</td>\n      <td>...</td>\n      <td>0.463812</td>\n      <td>0.511858</td>\n      <td>0.952929</td>\n      <td>-0.813730</td>\n      <td>3.054030</td>\n      <td>0.738909</td>\n      <td>-0.076476</td>\n      <td>0.864605</td>\n      <td>0.851661</td>\n      <td>-2.691619</td>\n    </tr>\n    <tr>\n      <th>2</th>\n      <td>1.857037</td>\n      <td>3.455379</td>\n      <td>-1.939125</td>\n      <td>0.452569</td>\n      <td>0.328551</td>\n      <td>-5.684084</td>\n      <td>1.889937</td>\n      <td>5.295589</td>\n      <td>6.078263</td>\n      <td>-2.086571</td>\n      <td>...</td>\n      <td>-0.546285</td>\n      <td>1.471410</td>\n      <td>0.712211</td>\n      <td>0.860802</td>\n      <td>-0.582224</td>\n      <td>4.473636</td>\n      <td>-0.150426</td>\n      <td>-1.909253</td>\n      <td>-0.158911</td>\n      <td>4.151898</td>\n    </tr>\n    <tr>\n      <th>3</th>\n      <td>0.265719</td>\n      <td>2.098823</td>\n      <td>-0.568527</td>\n      <td>1.840265</td>\n      <td>0.736556</td>\n      <td>0.761174</td>\n      <td>-2.243618</td>\n      <td>-1.716168</td>\n      <td>-0.456248</td>\n      <td>-1.960015</td>\n      <td>...</td>\n      <td>1.365852</td>\n      <td>1.326883</td>\n      <td>1.975418</td>\n      <td>-1.354237</td>\n      <td>1.304455</td>\n      <td>2.465221</td>\n      <td>0.459522</td>\n      <td>1.392626</td>\n      <td>1.146901</td>\n      <td>-0.544497</td>\n    </tr>\n    <tr>\n      <th>4</th>\n      <td>0.343023</td>\n      <td>2.233894</td>\n      <td>-1.537942</td>\n      <td>1.145865</td>\n      <td>-0.180315</td>\n      <td>-2.963826</td>\n      <td>0.384539</td>\n      <td>4.944383</td>\n      <td>0.572286</td>\n      <td>-2.445902</td>\n      <td>...</td>\n      <td>0.476324</td>\n      <td>-0.962219</td>\n      <td>0.470524</td>\n      <td>1.711158</td>\n      <td>-0.547667</td>\n      <td>3.506202</td>\n      <td>0.625747</td>\n      <td>-1.408448</td>\n      <td>-2.133726</td>\n      <td>2.852950</td>\n    </tr>\n  </tbody>\n</table>\n<p>5 rows × 300 columns</p>\n</div>"
     },
     "execution_count": 56,
     "metadata": {},
     "output_type": "execute_result"
    }
   ],
   "source": [
    "from nltk.corpus import stopwords\n",
    "eng_stopwords = stopwords.words('english')\n",
    "\n",
    "def clean_text(text, remove_stopwords=False):\n",
    "    text = BeautifulSoup(text, 'html.parser').get_text()\n",
    "    text = re.sub(r'[^a-zA-Z]', ' ', text)\n",
    "    words = text.lower().split()\n",
    "    if remove_stopwords:\n",
    "        words = [w for w in words if w not in eng_stopwords]\n",
    "    return words\n",
    "\n",
    "\n",
    "def to_review_vector(review):\n",
    "    global word_vec\n",
    "    review = clean_text(review, remove_stopwords=True)\n",
    "    word_vec = np.zeros((1, 300))\n",
    "    for word in review:\n",
    "        # word_vec = np.zeros((1, 300))\n",
    "        if word in model.wv.key_to_index:\n",
    "             word_vec += np.array([model.wv[word]]) # model.wv[word]获得词向量\n",
    "    return pd.Series(word_vec.mean(axis = 0)) # word_vec.mean计算整句话平均向量值\n",
    "\n",
    "train_data_features = df.review.apply(to_review_vector)\n",
    "train_data_features.head()"
   ],
   "metadata": {
    "collapsed": false,
    "ExecuteTime": {
     "end_time": "2025-01-05T07:28:48.283781Z",
     "start_time": "2025-01-05T07:28:31.166536Z"
    }
   },
   "id": "f74558dae4c1f242",
   "execution_count": 56
  },
  {
   "cell_type": "code",
   "outputs": [
    {
     "name": "stdout",
     "output_type": "stream",
     "text": [
      "Recall metric in the testing dataset:  0.882137030995106\n",
      "accuracy metric in the testing dataset:  0.8768\n"
     ]
    },
    {
     "data": {
      "text/plain": "<Figure size 640x480 with 2 Axes>",
      "image/png": "[encoded data removed]"
     },
     "metadata": {},
     "output_type": "display_data"
    }
   ],
   "source": [
    "#数据切分（训练集 和 测试集）\n",
    "from sklearn.model_selection import train_test_split\n",
    "X_train,X_test,y_train,y_test = train_test_split(train_data_features,df.sentiment,test_size=0.2,random_state=0)\n",
    "\n",
    "# 创建逻辑回归模型\n",
    "LR_model = LogisticRegression()\n",
    "# 训练模型\n",
    "LR_model = LR_model.fit(X_train, y_train)\n",
    "# 预测\n",
    "y_pred = LR_model.predict(X_test)\n",
    "# 计算混淆矩阵\n",
    "cnf_matrix = confusion_matrix(y_test, y_pred)\n",
    "\n",
    "# 计算召回率\n",
    "print(\"Recall metric in the testing dataset: \", cnf_matrix[1, 1] / (cnf_matrix[1, 0] + cnf_matrix[1, 1]))\n",
    "#计算准确率\n",
    "print(\"accuracy metric in the testing dataset: \", (cnf_matrix[1, 1] + cnf_matrix[0, 0]) / (cnf_matrix[0, 0] + cnf_matrix[1, 1] + cnf_matrix[0, 1] + cnf_matrix[1, 0]))\n",
    "\n",
    "\n",
    "# 绘制非归一化混淆矩阵\n",
    "class_names = [0, 1]\n",
    "plt.figure()\n",
    "plot_confusion_matrix(cnf_matrix, classes=class_names, title='Confusion matrix')\n",
    "plt.show()"
   ],
   "metadata": {
    "collapsed": false,
    "ExecuteTime": {
     "end_time": "2025-01-05T07:38:43.304942Z",
     "start_time": "2025-01-05T07:38:41.658490Z"
    }
   },
   "id": "cb6350a5bdad986c",
   "execution_count": 57
  },
  {
   "cell_type": "code",
   "outputs": [],
   "source": [],
   "metadata": {
    "collapsed": false
   },
   "id": "cef5a54d82906320"
  }
 ],
 "metadata": {
  "kernelspec": {
   "display_name": "Python 3",
   "language": "python",
   "name": "python3"
  },
  "language_info": {
   "codemirror_mode": {
    "name": "ipython",
    "version": 2
   },
   "file_extension": ".py",
   "mimetype": "text/x-python",
   "name": "python",
   "nbconvert_exporter": "python",
   "pygments_lexer": "ipython2",
   "version": "2.7.6"
  }
 },
 "nbformat": 4,
 "nbformat_minor": 5
}
