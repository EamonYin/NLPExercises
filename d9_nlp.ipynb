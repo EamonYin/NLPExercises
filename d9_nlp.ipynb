{
 "cells": [
  {
   "cell_type": "code",
   "execution_count": 1,
   "id": "initial_id",
   "metadata": {
    "collapsed": true,
    "ExecuteTime": {
     "end_time": "2025-01-04T06:59:48.959427Z",
     "start_time": "2025-01-04T06:59:45.056362Z"
    }
   },
   "outputs": [],
   "source": [
    "import os\n",
    "import re\n",
    "import numpy as np\n",
    "import pandas as pd\n",
    "#去除特殊字符\n",
    "from bs4 import BeautifulSoup\n",
    "#机器学习算法、数据预处理\n",
    "from sklearn.feature_extraction.text import CountVectorizer\n",
    "from sklearn.ensemble import RandomForestClassifier\n",
    "from sklearn.metrics import confusion_matrix\n",
    "from sklearn.linear_model import LogisticRegression\n",
    "\n",
    "import nltk\n",
    "from nltk.corpus import stopwords"
   ]
  },
  {
   "cell_type": "code",
   "outputs": [
    {
     "name": "stdout",
     "output_type": "stream",
     "text": [
      "Number of reviews:25000\n"
     ]
    },
    {
     "data": {
      "text/plain": "       id  sentiment                                             review\n0  5814_8          1  With all this stuff going down at the moment w...\n1  2381_9          1  \"The Classic War of the Worlds\" by Timothy Hin...\n2  7759_3          0  The film starts with a manager (Nicholas Bell)...\n3  3630_4          0  It must be assumed that those who praised this...\n4  9495_8          1  Superbly trashy and wondrously unpretentious 8...",
      "text/html": "<div>\n<style scoped>\n    .dataframe tbody tr th:only-of-type {\n        vertical-align: middle;\n    }\n\n    .dataframe tbody tr th {\n        vertical-align: top;\n    }\n\n    .dataframe thead th {\n        text-align: right;\n    }\n</style>\n<table border=\"1\" class=\"dataframe\">\n  <thead>\n    <tr style=\"text-align: right;\">\n      <th></th>\n      <th>id</th>\n      <th>sentiment</th>\n      <th>review</th>\n    </tr>\n  </thead>\n  <tbody>\n    <tr>\n      <th>0</th>\n      <td>5814_8</td>\n      <td>1</td>\n      <td>With all this stuff going down at the moment w...</td>\n    </tr>\n    <tr>\n      <th>1</th>\n      <td>2381_9</td>\n      <td>1</td>\n      <td>\"The Classic War of the Worlds\" by Timothy Hin...</td>\n    </tr>\n    <tr>\n      <th>2</th>\n      <td>7759_3</td>\n      <td>0</td>\n      <td>The film starts with a manager (Nicholas Bell)...</td>\n    </tr>\n    <tr>\n      <th>3</th>\n      <td>3630_4</td>\n      <td>0</td>\n      <td>It must be assumed that those who praised this...</td>\n    </tr>\n    <tr>\n      <th>4</th>\n      <td>9495_8</td>\n      <td>1</td>\n      <td>Superbly trashy and wondrously unpretentious 8...</td>\n    </tr>\n  </tbody>\n</table>\n</div>"
     },
     "execution_count": 3,
     "metadata": {},
     "output_type": "execute_result"
    }
   ],
   "source": [
    "#用pandas读入数据\n",
    "df = pd.read_csv('/Users/eamonyin/Downloads/迪哥nlp/练习/labeledTrainData.tsv', sep='\\t',escapechar='\\\\')\n",
    "print('Number of reviews:{}'.format(len(df)))\n",
    "df.head()"
   ],
   "metadata": {
    "collapsed": false,
    "ExecuteTime": {
     "end_time": "2025-01-04T07:01:15.857010Z",
     "start_time": "2025-01-04T07:01:15.607950Z"
    }
   },
   "id": "f584f78f1c8f13e4",
   "execution_count": 3
  },
  {
   "cell_type": "code",
   "outputs": [
    {
     "data": {
      "text/plain": "\"I watched this movie really late last night and usually if it's late then I'm pretty forgiving of movies. Although I tried, I just could not stand this movie at all, it kept getting worse and worse as the movie went on. Although I know it's suppose to be a comedy but I didn't find it very funny. It was also an especially unrealistic, and jaded portrayal of rural life. In case this is what any of you think country life is like, it's definitely not. I do have to agree that some of the guy cast members were cute, but the french guy was really fake. I do have to agree that it tried to have a good lesson in the story, but overall my recommendation is that no one over 8 watch it, it's just too annoying.\""
     },
     "execution_count": 4,
     "metadata": {},
     "output_type": "execute_result"
    }
   ],
   "source": [
    "df['review'][1000]"
   ],
   "metadata": {
    "collapsed": false,
    "ExecuteTime": {
     "end_time": "2025-01-04T07:05:49.294644Z",
     "start_time": "2025-01-04T07:05:49.288410Z"
    }
   },
   "id": "9bdd084b40bf37eb",
   "execution_count": 4
  },
  {
   "cell_type": "code",
   "outputs": [
    {
     "data": {
      "text/plain": "\"I watched this movie really late last night and usually if it's late then I'm pretty forgiving of movies. Although I tried, I just could not stand this movie at all, it kept getting worse and worse as the movie went on. Although I know it's suppose to be a comedy but I didn't find it very funny. It was also an especially unrealistic, and jaded portrayal of rural life. In case this is what any of you think country life is like, it's definitely not. I do have to agree that some of the guy cast members were cute, but the french guy was really fake. I do have to agree that it tried to have a good lesson in the story, but overall my recommendation is that no one over 8 watch it, it's just too annoying.\""
     },
     "execution_count": 5,
     "metadata": {},
     "output_type": "execute_result"
    }
   ],
   "source": [
    "#去除html标签\n",
    "example = BeautifulSoup(df['review'][1000],'html.parser').get_text()\n",
    "example"
   ],
   "metadata": {
    "collapsed": false,
    "ExecuteTime": {
     "end_time": "2025-01-04T07:08:51.369840Z",
     "start_time": "2025-01-04T07:08:51.365410Z"
    }
   },
   "id": "2cac37b3ae995927",
   "execution_count": 5
  },
  {
   "cell_type": "code",
   "outputs": [
    {
     "data": {
      "text/plain": "'I watched this movie really late last night and usually if it s late then I m pretty forgiving of movies  Although I tried  I just could not stand this movie at all  it kept getting worse and worse as the movie went on  Although I know it s suppose to be a comedy but I didn t find it very funny  It was also an especially unrealistic  and jaded portrayal of rural life  In case this is what any of you think country life is like  it s definitely not  I do have to agree that some of the guy cast members were cute  but the french guy was really fake  I do have to agree that it tried to have a good lesson in the story  but overall my recommendation is that no one over   watch it  it s just too annoying '"
     },
     "execution_count": 16,
     "metadata": {},
     "output_type": "execute_result"
    }
   ],
   "source": [
    "#去掉标点符号\n",
    "example_letters = re.sub(r'[^a-zA-Z]', ' ', example)\n",
    "example_letters"
   ],
   "metadata": {
    "collapsed": false,
    "ExecuteTime": {
     "end_time": "2025-01-04T07:13:27.187745Z",
     "start_time": "2025-01-04T07:13:27.183502Z"
    }
   },
   "id": "e50822b92d6dad87",
   "execution_count": 16
  },
  {
   "cell_type": "code",
   "outputs": [
    {
     "data": {
      "text/plain": "['i',\n 'watched',\n 'this',\n 'movie',\n 'really',\n 'late',\n 'last',\n 'night',\n 'and',\n 'usually',\n 'if',\n 'it',\n 's',\n 'late',\n 'then',\n 'i',\n 'm',\n 'pretty',\n 'forgiving',\n 'of',\n 'movies',\n 'although',\n 'i',\n 'tried',\n 'i',\n 'just',\n 'could',\n 'not',\n 'stand',\n 'this',\n 'movie',\n 'at',\n 'all',\n 'it',\n 'kept',\n 'getting',\n 'worse',\n 'and',\n 'worse',\n 'as',\n 'the',\n 'movie',\n 'went',\n 'on',\n 'although',\n 'i',\n 'know',\n 'it',\n 's',\n 'suppose',\n 'to',\n 'be',\n 'a',\n 'comedy',\n 'but',\n 'i',\n 'didn',\n 't',\n 'find',\n 'it',\n 'very',\n 'funny',\n 'it',\n 'was',\n 'also',\n 'an',\n 'especially',\n 'unrealistic',\n 'and',\n 'jaded',\n 'portrayal',\n 'of',\n 'rural',\n 'life',\n 'in',\n 'case',\n 'this',\n 'is',\n 'what',\n 'any',\n 'of',\n 'you',\n 'think',\n 'country',\n 'life',\n 'is',\n 'like',\n 'it',\n 's',\n 'definitely',\n 'not',\n 'i',\n 'do',\n 'have',\n 'to',\n 'agree',\n 'that',\n 'some',\n 'of',\n 'the',\n 'guy',\n 'cast',\n 'members',\n 'were',\n 'cute',\n 'but',\n 'the',\n 'french',\n 'guy',\n 'was',\n 'really',\n 'fake',\n 'i',\n 'do',\n 'have',\n 'to',\n 'agree',\n 'that',\n 'it',\n 'tried',\n 'to',\n 'have',\n 'a',\n 'good',\n 'lesson',\n 'in',\n 'the',\n 'story',\n 'but',\n 'overall',\n 'my',\n 'recommendation',\n 'is',\n 'that',\n 'no',\n 'one',\n 'over',\n 'watch',\n 'it',\n 'it',\n 's',\n 'just',\n 'too',\n 'annoying']"
     },
     "execution_count": 17,
     "metadata": {},
     "output_type": "execute_result"
    }
   ],
   "source": [
    "words = example_letters.lower().split()\n",
    "words"
   ],
   "metadata": {
    "collapsed": false,
    "ExecuteTime": {
     "end_time": "2025-01-04T07:13:29.116537Z",
     "start_time": "2025-01-04T07:13:29.112041Z"
    }
   },
   "id": "3734cd29c10e732d",
   "execution_count": 17
  },
  {
   "cell_type": "code",
   "outputs": [
    {
     "data": {
      "text/plain": "['watched',\n 'movie',\n 'really',\n 'late',\n 'last',\n 'night',\n 'usually',\n 'late',\n 'pretty',\n 'forgiving',\n 'movies',\n 'although',\n 'tried',\n 'could',\n 'stand',\n 'movie',\n 'kept',\n 'getting',\n 'worse',\n 'worse',\n 'movie',\n 'went',\n 'although',\n 'know',\n 'suppose',\n 'comedy',\n 'find',\n 'funny',\n 'also',\n 'especially',\n 'unrealistic',\n 'jaded',\n 'portrayal',\n 'rural',\n 'life',\n 'case',\n 'think',\n 'country',\n 'life',\n 'like',\n 'definitely',\n 'agree',\n 'guy',\n 'cast',\n 'members',\n 'cute',\n 'french',\n 'guy',\n 'really',\n 'fake',\n 'agree',\n 'tried',\n 'good',\n 'lesson',\n 'story',\n 'overall',\n 'recommendation',\n 'one',\n 'watch',\n 'annoying']"
     },
     "execution_count": 18,
     "metadata": {},
     "output_type": "execute_result"
    }
   ],
   "source": [
    "#去停用词\n",
    "stopwords = stopwords.words('english')\n",
    "words_nostop = [w for w in words if w not in stopwords]\n",
    "words_nostop"
   ],
   "metadata": {
    "collapsed": false,
    "ExecuteTime": {
     "end_time": "2025-01-04T07:16:00.770895Z",
     "start_time": "2025-01-04T07:16:00.764313Z"
    }
   },
   "id": "1036bee2efa9579f",
   "execution_count": 18
  },
  {
   "cell_type": "code",
   "outputs": [
    {
     "data": {
      "text/plain": "'watched movie really late last night usually late pretty forgiving movies although tried could stand movie kept getting worse worse movie went although know suppose comedy find funny also especially unrealistic jaded portrayal rural life case think country life like definitely agree guy cast members cute french guy really fake agree tried good lesson story overall recommendation one watch annoying'"
     },
     "execution_count": 22,
     "metadata": {},
     "output_type": "execute_result"
    }
   ],
   "source": [
    "sentence = \" \".join(words_nostop)\n",
    "sentence"
   ],
   "metadata": {
    "collapsed": false,
    "ExecuteTime": {
     "end_time": "2025-01-04T07:22:43.094915Z",
     "start_time": "2025-01-04T07:22:43.091868Z"
    }
   },
   "id": "df82c115e67b8fe8",
   "execution_count": 22
  },
  {
   "cell_type": "code",
   "outputs": [
    {
     "name": "stderr",
     "output_type": "stream",
     "text": [
      "/var/folders/n6/jc6p3y9s6j978jn_zhglfvzc0000gn/T/ipykernel_89185/2843679889.py:4: MarkupResemblesLocatorWarning: The input looks more like a filename than markup. You may want to open this file and pass the filehandle into Beautiful Soup.\n",
      "  text = BeautifulSoup(text,'html.parser').get_text()\n"
     ]
    },
    {
     "data": {
      "text/plain": "       id  sentiment                                             review  \\\n0  5814_8          1  With all this stuff going down at the moment w...   \n1  2381_9          1  \"The Classic War of the Worlds\" by Timothy Hin...   \n2  7759_3          0  The film starts with a manager (Nicholas Bell)...   \n3  3630_4          0  It must be assumed that those who praised this...   \n4  9495_8          1  Superbly trashy and wondrously unpretentious 8...   \n\n                                        clean_review  \n0  stuff going moment mj started listening music ...  \n1  classic war worlds timothy hines entertaining ...  \n2  film starts manager nicholas bell giving welco...  \n3  must assumed praised film greatest filmed oper...  \n4  superbly trashy wondrously unpretentious explo...  ",
      "text/html": "<div>\n<style scoped>\n    .dataframe tbody tr th:only-of-type {\n        vertical-align: middle;\n    }\n\n    .dataframe tbody tr th {\n        vertical-align: top;\n    }\n\n    .dataframe thead th {\n        text-align: right;\n    }\n</style>\n<table border=\"1\" class=\"dataframe\">\n  <thead>\n    <tr style=\"text-align: right;\">\n      <th></th>\n      <th>id</th>\n      <th>sentiment</th>\n      <th>review</th>\n      <th>clean_review</th>\n    </tr>\n  </thead>\n  <tbody>\n    <tr>\n      <th>0</th>\n      <td>5814_8</td>\n      <td>1</td>\n      <td>With all this stuff going down at the moment w...</td>\n      <td>stuff going moment mj started listening music ...</td>\n    </tr>\n    <tr>\n      <th>1</th>\n      <td>2381_9</td>\n      <td>1</td>\n      <td>\"The Classic War of the Worlds\" by Timothy Hin...</td>\n      <td>classic war worlds timothy hines entertaining ...</td>\n    </tr>\n    <tr>\n      <th>2</th>\n      <td>7759_3</td>\n      <td>0</td>\n      <td>The film starts with a manager (Nicholas Bell)...</td>\n      <td>film starts manager nicholas bell giving welco...</td>\n    </tr>\n    <tr>\n      <th>3</th>\n      <td>3630_4</td>\n      <td>0</td>\n      <td>It must be assumed that those who praised this...</td>\n      <td>must assumed praised film greatest filmed oper...</td>\n    </tr>\n    <tr>\n      <th>4</th>\n      <td>9495_8</td>\n      <td>1</td>\n      <td>Superbly trashy and wondrously unpretentious 8...</td>\n      <td>superbly trashy wondrously unpretentious explo...</td>\n    </tr>\n  </tbody>\n</table>\n</div>"
     },
     "execution_count": 26,
     "metadata": {},
     "output_type": "execute_result"
    }
   ],
   "source": [
    "from nltk.corpus import stopwords\n",
    "stopwords = stopwords.words('english')\n",
    "def clean_text(text):\n",
    "    text = BeautifulSoup(text,'html.parser').get_text()\n",
    "    text = re.sub(r'[^a-zA-Z]', ' ', text)\n",
    "    words = text.lower().split()\n",
    "    words = [w for w in words if w not in stopwords]\n",
    "    return ' '.join(words) \n",
    "\n",
    "df['clean_review'] = df.review.apply(clean_text)\n",
    "df.head()"
   ],
   "metadata": {
    "collapsed": false,
    "ExecuteTime": {
     "end_time": "2025-01-04T07:29:34.077556Z",
     "start_time": "2025-01-04T07:29:25.573208Z"
    }
   },
   "id": "4990e74e320f9a59",
   "execution_count": 26
  },
  {
   "cell_type": "code",
   "outputs": [],
   "source": [],
   "metadata": {
    "collapsed": false
   },
   "id": "6a05c07ef49f331d"
  }
 ],
 "metadata": {
  "kernelspec": {
   "display_name": "Python 3",
   "language": "python",
   "name": "python3"
  },
  "language_info": {
   "codemirror_mode": {
    "name": "ipython",
    "version": 2
   },
   "file_extension": ".py",
   "mimetype": "text/x-python",
   "name": "python",
   "nbconvert_exporter": "python",
   "pygments_lexer": "ipython2",
   "version": "2.7.6"
  }
 },
 "nbformat": 4,
 "nbformat_minor": 5
}
