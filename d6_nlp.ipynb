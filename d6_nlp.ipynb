{
 "cells": [
  {
   "cell_type": "code",
   "execution_count": 33,
   "id": "initial_id",
   "metadata": {
    "collapsed": true,
    "ExecuteTime": {
     "end_time": "2024-12-30T08:17:25.254661Z",
     "start_time": "2024-12-30T08:17:25.250902Z"
    }
   },
   "outputs": [],
   "source": [
    "import numpy as np\n",
    "from hmmlearn import hmm\n",
    "#https://hmmlearn.readthedocs.io/en/latest/\n",
    "\n",
    "#隐藏状态：3个盒子\n",
    "states = [\"box 1\", \"box 2\", \"box 3\"]\n",
    "n_states = len(states)\n",
    "\n",
    "#观测状态:2种球\n",
    "observations = [\"red\",\"white\"]\n",
    "n_observations = len(observations)\n",
    "\n",
    "#模型参数\n",
    "# π\n",
    "start_probability = np.array([0.2, 0.4, 0.4])\n",
    "# A矩阵 隐藏状态 ——> 下一个隐藏状态 的状态转移概率矩阵\n",
    "transition_probability = np.array([\n",
    "    [0.5,0.2,0.3],\n",
    "    [0.3,0.5,0.2],\n",
    "    [0.2,0.3,0.5]\n",
    "])\n",
    "# B矩阵 隐藏状态 ——> 生成观测序列 的概率\n",
    "emission_probability = np.array([\n",
    "    [0.5,0.5],\n",
    "    [0.4,0.6],\n",
    "    [0.7,0.3]\n",
    "])\n",
    "\n",
    "#用于离散观测状态\n",
    "model = hmm.CategoricalHMM(n_components=n_states)\n",
    "model.startprob_ = start_probability\n",
    "model.transmat_ = transition_probability\n",
    "model.emissionprob_ = emission_probability"
   ]
  },
  {
   "cell_type": "code",
   "outputs": [
    {
     "name": "stdout",
     "output_type": "stream",
     "text": [
      "['box 3' 'box 3' 'box 3']\n"
     ]
    }
   ],
   "source": [
    "seen = np.array([[0,1,0]]).T\n",
    "# box=隐藏状态序列 logprob=\n",
    "logprob,box = model.decode(seen,algorithm=\"viterbi\")\n",
    "print(np.array(states)[box])"
   ],
   "metadata": {
    "collapsed": false,
    "ExecuteTime": {
     "end_time": "2024-12-30T08:07:08.355481Z",
     "start_time": "2024-12-30T08:07:08.350813Z"
    }
   },
   "id": "4dd3d8e30155c634",
   "execution_count": 31
  },
  {
   "cell_type": "code",
   "outputs": [
    {
     "name": "stdout",
     "output_type": "stream",
     "text": [
      "-2.038545309915233\n"
     ]
    }
   ],
   "source": [
    "# 观测到序列的可能性\n",
    "print(model.score(seen))"
   ],
   "metadata": {
    "collapsed": false,
    "ExecuteTime": {
     "end_time": "2024-12-30T08:09:13.602304Z",
     "start_time": "2024-12-30T08:09:13.596875Z"
    }
   },
   "id": "379b38982c58038c",
   "execution_count": 32
  },
  {
   "cell_type": "code",
   "outputs": [
    {
     "name": "stdout",
     "output_type": "stream",
     "text": [
      "startprob_  [1.93607012e-21 3.19808626e-56 1.00000000e+00]\n",
      "---------------------------\n",
      "transmat_ [[3.99547025e-02 2.92400265e-10 9.60045297e-01]\n",
      " [9.87390894e-01 8.69132458e-04 1.17399738e-02]\n",
      " [6.14437393e-01 3.85562604e-01 3.11799244e-09]]\n",
      "---------------------------\n",
      "emissionprob_ [[2.01370993e-01 7.98629007e-01]\n",
      " [2.04291182e-10 1.00000000e+00]\n",
      " [9.99998884e-01 1.11585645e-06]]\n",
      "---------------------------\n",
      "score -5.91486246938362\n"
     ]
    }
   ],
   "source": [
    "# tol：停机阈值 n_iter：最大迭代次数 n_components：隐藏状态数目\n",
    "model2 = hmm.CategoricalHMM(n_components=n_states, n_iter=20, tol=0.01)\n",
    "X2 = np.array([[0, 1, 0, 1], [0, 0, 0, 1], [1, 0, 1, 1]])\n",
    "model2.fit(X2)\n",
    "print ('startprob_ ', model2.startprob_) # π\n",
    "print ('---------------------------')\n",
    "print('transmat_', model2.transmat_) # A矩阵\n",
    "print ('---------------------------')\n",
    "print ('emissionprob_' , model2.emissionprob_) # B矩阵\n",
    "print ('---------------------------') \n",
    "print('score', model2.score(X2)) # 出现序列的概率"
   ],
   "metadata": {
    "collapsed": false,
    "ExecuteTime": {
     "end_time": "2024-12-30T08:21:43.839994Z",
     "start_time": "2024-12-30T08:21:43.832513Z"
    }
   },
   "id": "edb6c2a1fd2318c7",
   "execution_count": 36
  },
  {
   "cell_type": "code",
   "outputs": [],
   "source": [],
   "metadata": {
    "collapsed": false
   },
   "id": "263bbda4120f6e03"
  }
 ],
 "metadata": {
  "kernelspec": {
   "display_name": "Python 3",
   "language": "python",
   "name": "python3"
  },
  "language_info": {
   "codemirror_mode": {
    "name": "ipython",
    "version": 2
   },
   "file_extension": ".py",
   "mimetype": "text/x-python",
   "name": "python",
   "nbconvert_exporter": "python",
   "pygments_lexer": "ipython2",
   "version": "2.7.6"
  }
 },
 "nbformat": 4,
 "nbformat_minor": 5
}
